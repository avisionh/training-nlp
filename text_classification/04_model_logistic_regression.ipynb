{
 "cells": [
  {
   "cell_type": "code",
   "execution_count": 1,
   "metadata": {},
   "outputs": [],
   "source": [
    "from operator import itemgetter\n",
    "\n",
    "import pandas as pd\n",
    "import numpy as np\n",
    "\n",
    "from sklearn.pipeline import Pipeline\n",
    "from sklearn.feature_extraction.text import CountVectorizer\n",
    "from sklearn.feature_extraction.text import TfidfTransformer\n",
    "from sklearn.linear_model import LogisticRegression\n",
    "from sklearn.metrics import accuracy_score\n",
    "from sklearn.metrics import classification_report\n",
    "\n",
    "# restore objects and unpack them into variables\n",
    "%store -r object_keep\n",
    "df_bbc, list_categories, X, y, X_train, X_test, y_train, y_test = itemgetter('df_bbc',\n",
    "                                                                             'list_categories',\n",
    "                                                                             'X',\n",
    "                                                                             'y',\n",
    "                                                                             'X_train',\n",
    "                                                                             'X_test',\n",
    "                                                                             'y_train',\n",
    "                                                                             'y_test')(object_keep)"
   ]
  },
  {
   "cell_type": "markdown",
   "metadata": {},
   "source": [
    "## Logistic Regression\n",
    "Logistic regression is simple and easy to understand classification algorithm, it can be easily generalised for multiple classes/categories via multinomial logistic regression."
   ]
  },
  {
   "cell_type": "code",
   "execution_count": 5,
   "metadata": {},
   "outputs": [
    {
     "data": {
      "text/plain": [
       "Pipeline(steps=[('vect', CountVectorizer()), ('tfidf', TfidfTransformer()),\n",
       "                ('clf',\n",
       "                 LogisticRegression(C=100000.0, max_iter=200,\n",
       "                                    multi_class='multinomial', n_jobs=1))])"
      ]
     },
     "execution_count": 5,
     "metadata": {},
     "output_type": "execute_result"
    }
   ],
   "source": [
    "model_logreg = Pipeline(steps = [('vect', CountVectorizer()),\n",
    "                                 ('tfidf', TfidfTransformer()),\n",
    "                                 ('clf', LogisticRegression(multi_class = 'multinomial', n_jobs = 1, C = 1e5, max_iter = 200))])\n",
    "model_logreg.fit(X_train, y_train)"
   ]
  },
  {
   "cell_type": "code",
   "execution_count": 6,
   "metadata": {},
   "outputs": [
    {
     "name": "stdout",
     "output_type": "stream",
     "text": [
      "Accuracy: 0.984\n",
      "               precision    recall  f1-score   support\n",
      "\n",
      "entertainment       0.96      0.98      0.97       144\n",
      "     business       0.99      0.98      0.99       110\n",
      "        sport       0.98      0.96      0.97       129\n",
      "     politics       0.99      1.00      0.99       164\n",
      "         tech       1.00      0.99      1.00       121\n",
      "\n",
      "     accuracy                           0.98       668\n",
      "    macro avg       0.98      0.98      0.98       668\n",
      " weighted avg       0.98      0.98      0.98       668\n",
      "\n",
      "CPU times: user 162 ms, sys: 6.33 ms, total: 168 ms\n",
      "Wall time: 168 ms\n"
     ]
    }
   ],
   "source": [
    "%%time\n",
    "\n",
    "y_pred = model_logreg.predict(X_test)\n",
    "\n",
    "print('Accuracy: {:.3f}'.format(accuracy_score(y_pred, y_test)))\n",
    "print(classification_report(y_test, y_pred, target_names = list_categories))"
   ]
  },
  {
   "cell_type": "markdown",
   "metadata": {},
   "source": [
    "> **Interestingly, a simple logistic regression provides comparable performance to the widely considered, best-in-class Linear SVM in the previous section. The differences lie in the scores for each of the individual categories.**"
   ]
  },
  {
   "cell_type": "code",
   "execution_count": 7,
   "metadata": {},
   "outputs": [
    {
     "name": "stdout",
     "output_type": "stream",
     "text": [
      "Stored 'object_keep' (dict)\n"
     ]
    }
   ],
   "source": [
    "object_keep = {'df_bbc': df_bbc,\n",
    "               'list_categories': list_categories,\n",
    "               'X': X,\n",
    "               'y': y,\n",
    "               'X_train': X_train,\n",
    "               'X_test': X_test,\n",
    "               'y_train': y_train,\n",
    "               'y_test': y_test}\n",
    "%store object_keep"
   ]
  }
 ],
 "metadata": {
  "kernelspec": {
   "display_name": "env_nlp",
   "language": "python",
   "name": "env_nlp"
  },
  "language_info": {
   "codemirror_mode": {
    "name": "ipython",
    "version": 3
   },
   "file_extension": ".py",
   "mimetype": "text/x-python",
   "name": "python",
   "nbconvert_exporter": "python",
   "pygments_lexer": "ipython3",
   "version": "3.8.1"
  }
 },
 "nbformat": 4,
 "nbformat_minor": 4
}

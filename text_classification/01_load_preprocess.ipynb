{
 "cells": [
  {
   "cell_type": "markdown",
   "metadata": {},
   "source": [
    "# Text Classification\n",
    "Data comes from BBC articles which are available to download from Kaggle [here](https://www.kaggle.com/shivamkushwaha/bbc-full-text-document-classification).\n",
    "\n",
    "The code and workflow is motivated by this excellent article [here](https://towardsdatascience.com/multi-class-text-classification-model-comparison-and-selection-5eb066197568),"
   ]
  },
  {
   "cell_type": "code",
   "execution_count": 11,
   "metadata": {},
   "outputs": [],
   "source": [
    "import os\n",
    "from collections import defaultdict\n",
    "from pathlib import Path\n",
    "\n",
    "import pandas as pd\n",
    "import numpy as np\n",
    "import re\n",
    "from bs4 import BeautifulSoup\n",
    "\n",
    "import nltk\n",
    "from nltk.corpus import stopwords\n",
    "\n",
    "import matplotlib.pyplot as plt\n",
    "%matplotlib inline\n",
    "\n",
    "# display multiple outputs in same cell\n",
    "from IPython.core.interactiveshell import InteractiveShell\n",
    "InteractiveShell.ast_node_interactivity = \"all\""
   ]
  },
  {
   "cell_type": "code",
   "execution_count": 12,
   "metadata": {},
   "outputs": [],
   "source": [
    "# cleaning\n",
    "\n",
    "def func_cleantext(text, re_badsymbols, re_replacespace, stopwords, lemmatise_on = False):\n",
    "    \"\"\"\n",
    "        text: a string\n",
    "        return: cleansed string\n",
    "    \"\"\"\n",
    "    \n",
    "    # HTML decoding\n",
    "    text = BeautifulSoup(text).text \n",
    "    text = text.lower()\n",
    "    text = re_replacespace.sub(' ', text)\n",
    "    text = re_badsymbols.sub(' ', text)\n",
    "    text = ' '.join(word for word in text.split() if word not in stopwords)\n",
    "    \n",
    "    if lemmatise_on == True:\n",
    "        tokeniser = nltk.tokenize.WhitespaceTokenizer()\n",
    "        lemmatiser = nltk.stem.WordNetLemmatizer()\n",
    "        [lemmatiser.lemmatize(word) for word in tokeniser.tokenize(text)]\n",
    "    \n",
    "    return text"
   ]
  },
  {
   "cell_type": "code",
   "execution_count": 13,
   "metadata": {},
   "outputs": [],
   "source": [
    "path_folder = '../data/bbc_classification/bbc'\n",
    "\n",
    "# list of folders for each BBC article\n",
    "list_folders = os.listdir(path = path_folder)\n",
    "list_folders = [e for e in list_folders if e not in {'.DS_Store', 'README.TXT'}]\n",
    "\n",
    "# nested list of files within each folder\n",
    "list_files = []\n",
    "for folder in list_folders:\n",
    "    files = os.listdir(path = path_folder + '/' + folder + '/')\n",
    "    list_files.append(files)\n",
    "    \n",
    "# intialise dictionary with keys from list_folders an values from list_files\n",
    "dict_files = dict(zip(list_folders, list_files))"
   ]
  },
  {
   "cell_type": "markdown",
   "metadata": {},
   "source": [
    "Now have a dictionary, `dict_files` whose:\n",
    " - **Keys**: The folder name the data files belong to\n",
    " - **Values**: The data files within each of the sub-folders\n",
    "\n",
    "What we want to do now is load in each text file as a *single-entry* and assign it the `key` from `dict_files` as the classification. This enables us to create a labelled dataset."
   ]
  },
  {
   "cell_type": "code",
   "execution_count": 14,
   "metadata": {},
   "outputs": [
    {
     "name": "stdout",
     "output_type": "stream",
     "text": [
      "../data/bbc_classification/bbc/entertainment\n",
      "../data/bbc_classification/bbc/business\n",
      "../data/bbc_classification/bbc/sport\n",
      "../data/bbc_classification/bbc/politics\n",
      "../data/bbc_classification/bbc/tech\n"
     ]
    }
   ],
   "source": [
    "# load data in\n",
    "df_bbc = pd.DataFrame(columns = ['category', 'article_text'])\n",
    "for folder in list_folders:\n",
    "    results = defaultdict(list)\n",
    "    path_dir = path_folder + '/' + folder\n",
    "    print(path_dir)\n",
    "    for file in Path(path_dir).iterdir():\n",
    "        with open(file, 'rb') as file_open:\n",
    "            results['category'] = folder\n",
    "            results['article_text'].append(file_open.read())\n",
    "    df = pd.DataFrame(results)\n",
    "    df_bbc = df_bbc.append(df)"
   ]
  },
  {
   "cell_type": "code",
   "execution_count": 15,
   "metadata": {},
   "outputs": [],
   "source": [
    "del df, dict_files, file, files, folder, list_files, list_folders, path_dir, path_folder, results"
   ]
  },
  {
   "cell_type": "markdown",
   "metadata": {},
   "source": [
    "## Pre-processing\n",
    "Let's start pre-processing our data so that we can have a better dataset to apply models on.\n",
    "\n",
    "To begin with, let's check our class balances by plotting their counts. As we can see below, the counts of articles we have for each class/category such as *sport*, *business* etc. is relatively balanced."
   ]
  },
  {
   "cell_type": "code",
   "execution_count": 16,
   "metadata": {},
   "outputs": [
    {
     "data": {
      "text/plain": [
       "<AxesSubplot:>"
      ]
     },
     "execution_count": 16,
     "metadata": {},
     "output_type": "execute_result"
    },
    {
     "data": {
      "image/png": "[encoded data removed]",
      "text/plain": [
       "<Figure size 432x288 with 1 Axes>"
      ]
     },
     "metadata": {
      "needs_background": "light"
     },
     "output_type": "display_data"
    }
   ],
   "source": [
    "df_bbc['category'].value_counts().plot(kind = 'bar')"
   ]
  },
  {
   "cell_type": "code",
   "execution_count": 17,
   "metadata": {},
   "outputs": [],
   "source": [
    "REPLACE_BY_SPACE_RE = re.compile('[/(){}\\[\\]\\|@,;]')\n",
    "BAD_SYMBOLS_RE = re.compile('[^0-9a-z #+_]')\n",
    "STOPWORDS = set(stopwords.words('english'))\n",
    "\n",
    "df_bbc['article_text_clean'] = df_bbc['article_text'].apply(func = func_cleantext,\n",
    "                                                            re_badsymbols = BAD_SYMBOLS_RE, \n",
    "                                                            re_replacespace = REPLACE_BY_SPACE_RE,\n",
    "                                                            stopwords = STOPWORDS,\n",
    "                                                            lemmatise_on = True)"
   ]
  },
  {
   "cell_type": "code",
   "execution_count": 18,
   "metadata": {},
   "outputs": [
    {
     "data": {
      "text/html": [
       "<div>\n",
       "<style scoped>\n",
       "    .dataframe tbody tr th:only-of-type {\n",
       "        vertical-align: middle;\n",
       "    }\n",
       "\n",
       "    .dataframe tbody tr th {\n",
       "        vertical-align: top;\n",
       "    }\n",
       "\n",
       "    .dataframe thead th {\n",
       "        text-align: right;\n",
       "    }\n",
       "</style>\n",
       "<table border=\"1\" class=\"dataframe\">\n",
       "  <thead>\n",
       "    <tr style=\"text-align: right;\">\n",
       "      <th></th>\n",
       "      <th>category</th>\n",
       "      <th>article_text</th>\n",
       "      <th>article_text_clean</th>\n",
       "    </tr>\n",
       "  </thead>\n",
       "  <tbody>\n",
       "    <tr>\n",
       "      <th>0</th>\n",
       "      <td>entertainment</td>\n",
       "      <td>b'Musicians to tackle US red tape\\n\\nMusicians...</td>\n",
       "      <td>musicians tackle us red tape musicians groups ...</td>\n",
       "    </tr>\n",
       "    <tr>\n",
       "      <th>1</th>\n",
       "      <td>entertainment</td>\n",
       "      <td>b'U2\\'s desire to be number one\\n\\nU2, who hav...</td>\n",
       "      <td>u2 desire number one u2 three prestigious gram...</td>\n",
       "    </tr>\n",
       "    <tr>\n",
       "      <th>2</th>\n",
       "      <td>entertainment</td>\n",
       "      <td>b'Rocker Doherty in on-stage fight\\n\\nRock sin...</td>\n",
       "      <td>rocker doherty stage fight rock singer pete do...</td>\n",
       "    </tr>\n",
       "    <tr>\n",
       "      <th>3</th>\n",
       "      <td>entertainment</td>\n",
       "      <td>b\"Snicket tops US box office chart\\n\\nThe film...</td>\n",
       "      <td>snicket tops us box office chart film adaptati...</td>\n",
       "    </tr>\n",
       "    <tr>\n",
       "      <th>4</th>\n",
       "      <td>entertainment</td>\n",
       "      <td>b'Ocean\\'s Twelve raids box office\\n\\nOcean\\'s...</td>\n",
       "      <td>ocean twelve raids box office ocean twelve cri...</td>\n",
       "    </tr>\n",
       "    <tr>\n",
       "      <th>5</th>\n",
       "      <td>entertainment</td>\n",
       "      <td>b'\\'Landmark movies\\' of 2004 hailed\\n\\nUS fil...</td>\n",
       "      <td>landmark movies 2004 hailed us film profession...</td>\n",
       "    </tr>\n",
       "    <tr>\n",
       "      <th>6</th>\n",
       "      <td>entertainment</td>\n",
       "      <td>b'Pete Doherty misses bail deadline\\n\\nSinger ...</td>\n",
       "      <td>pete doherty misses bail deadline singer pete ...</td>\n",
       "    </tr>\n",
       "    <tr>\n",
       "      <th>7</th>\n",
       "      <td>entertainment</td>\n",
       "      <td>b'Fockers retain film chart crown\\n\\nComedy Me...</td>\n",
       "      <td>fockers retain film chart crown comedy meet fo...</td>\n",
       "    </tr>\n",
       "    <tr>\n",
       "      <th>8</th>\n",
       "      <td>entertainment</td>\n",
       "      <td>b'Top gig award for Scissor Sisters\\n\\nNew Yor...</td>\n",
       "      <td>top gig award scissor sisters new york band sc...</td>\n",
       "    </tr>\n",
       "    <tr>\n",
       "      <th>9</th>\n",
       "      <td>entertainment</td>\n",
       "      <td>b'Johnny Depp: The acting outlaw\\n\\nJohnny Dep...</td>\n",
       "      <td>johnny depp acting outlaw johnny depp whose la...</td>\n",
       "    </tr>\n",
       "  </tbody>\n",
       "</table>\n",
       "</div>"
      ],
      "text/plain": [
       "        category                                       article_text  \\\n",
       "0  entertainment  b'Musicians to tackle US red tape\\n\\nMusicians...   \n",
       "1  entertainment  b'U2\\'s desire to be number one\\n\\nU2, who hav...   \n",
       "2  entertainment  b'Rocker Doherty in on-stage fight\\n\\nRock sin...   \n",
       "3  entertainment  b\"Snicket tops US box office chart\\n\\nThe film...   \n",
       "4  entertainment  b'Ocean\\'s Twelve raids box office\\n\\nOcean\\'s...   \n",
       "5  entertainment  b'\\'Landmark movies\\' of 2004 hailed\\n\\nUS fil...   \n",
       "6  entertainment  b'Pete Doherty misses bail deadline\\n\\nSinger ...   \n",
       "7  entertainment  b'Fockers retain film chart crown\\n\\nComedy Me...   \n",
       "8  entertainment  b'Top gig award for Scissor Sisters\\n\\nNew Yor...   \n",
       "9  entertainment  b'Johnny Depp: The acting outlaw\\n\\nJohnny Dep...   \n",
       "\n",
       "                                  article_text_clean  \n",
       "0  musicians tackle us red tape musicians groups ...  \n",
       "1  u2 desire number one u2 three prestigious gram...  \n",
       "2  rocker doherty stage fight rock singer pete do...  \n",
       "3  snicket tops us box office chart film adaptati...  \n",
       "4  ocean twelve raids box office ocean twelve cri...  \n",
       "5  landmark movies 2004 hailed us film profession...  \n",
       "6  pete doherty misses bail deadline singer pete ...  \n",
       "7  fockers retain film chart crown comedy meet fo...  \n",
       "8  top gig award scissor sisters new york band sc...  \n",
       "9  johnny depp acting outlaw johnny depp whose la...  "
      ]
     },
     "execution_count": 18,
     "metadata": {},
     "output_type": "execute_result"
    }
   ],
   "source": [
    "df_bbc.head(10)"
   ]
  },
  {
   "cell_type": "code",
   "execution_count": 19,
   "metadata": {},
   "outputs": [
    {
     "data": {
      "text/plain": [
       "504904"
      ]
     },
     "execution_count": 19,
     "metadata": {},
     "output_type": "execute_result"
    }
   ],
   "source": [
    "# word count\n",
    "df_bbc['article_text_clean'].apply(lambda x: len(x.split(' '))).sum()"
   ]
  },
  {
   "cell_type": "code",
   "execution_count": 20,
   "metadata": {},
   "outputs": [
    {
     "name": "stdout",
     "output_type": "stream",
     "text": [
      "Stored 'df_bbc' (DataFrame)\n"
     ]
    }
   ],
   "source": [
    "# carry over to other notebook\n",
    "%store df_bbc"
   ]
  }
 ],
 "metadata": {
  "kernelspec": {
   "display_name": "env_nlp",
   "language": "python",
   "name": "env_nlp"
  },
  "language_info": {
   "codemirror_mode": {
    "name": "ipython",
    "version": 3
   },
   "file_extension": ".py",
   "mimetype": "text/x-python",
   "name": "python",
   "nbconvert_exporter": "python",
   "pygments_lexer": "ipython3",
   "version": "3.8.1"
  }
 },
 "nbformat": 4,
 "nbformat_minor": 4
}

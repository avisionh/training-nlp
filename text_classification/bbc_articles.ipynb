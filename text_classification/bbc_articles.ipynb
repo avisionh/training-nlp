{
 "cells": [
  {
   "cell_type": "markdown",
   "metadata": {},
   "source": [
    "# Text Classification\n",
    "Data comes from BBC articles which are available to download from Kaggle [here](https://www.kaggle.com/shivamkushwaha/bbc-full-text-document-classification)."
   ]
  },
  {
   "cell_type": "code",
   "execution_count": 58,
   "metadata": {},
   "outputs": [],
   "source": [
    "import os\n",
    "from collections import defaultdict\n",
    "from pathlib import Path\n",
    "import pandas as pd\n",
    "import numpy as np\n",
    "\n",
    "import matplotlib.pyplot as plt\n",
    "\n",
    "# display multiple outputs in same cell\n",
    "from IPython.core.interactiveshell import InteractiveShell\n",
    "InteractiveShell.ast_node_interactivity = \"all\""
   ]
  },
  {
   "cell_type": "code",
   "execution_count": 59,
   "metadata": {},
   "outputs": [],
   "source": [
    "path_folder = '../data/bbc_classification/bbc'\n",
    "\n",
    "# list of folders for each BBC article\n",
    "list_folders = os.listdir(path = path_folder)\n",
    "list_folders = [e for e in list_folders if e not in {'.DS_Store', 'README.TXT'}]\n",
    "\n",
    "# nested list of files within each folder\n",
    "list_files = []\n",
    "for folder in list_folders:\n",
    "    files = os.listdir(path = path_folder + '/' + folder + '/')\n",
    "    list_files.append(files)\n",
    "    \n",
    "# intialise dictionary with keys from list_folders an values from list_files\n",
    "dict_files = dict(zip(list_folders, list_files))"
   ]
  },
  {
   "cell_type": "markdown",
   "metadata": {},
   "source": [
    "Now have a dictionary, `dict_files` whose:\n",
    " - **Keys**: The folder name the data files belong to\n",
    " - **Values**: The data files within each of the sub-folders\n",
    "\n",
    "What we want to do now is load in each text file as a *single-entry* and assign it the `key` from `dict_files` as the classification. This enables us to create a labelled dataset."
   ]
  },
  {
   "cell_type": "code",
   "execution_count": 65,
   "metadata": {},
   "outputs": [
    {
     "name": "stdout",
     "output_type": "stream",
     "text": [
      "../data/bbc_classification/bbc/entertainment\n",
      "../data/bbc_classification/bbc/business\n",
      "../data/bbc_classification/bbc/sport\n",
      "../data/bbc_classification/bbc/politics\n",
      "../data/bbc_classification/bbc/tech\n"
     ]
    }
   ],
   "source": [
    "# load data in\n",
    "df_bbc = pd.DataFrame(columns = ['category', 'article_text'])\n",
    "for folder in list_folders:\n",
    "    path_dir = path_folder + '/' + folder\n",
    "    print(path_dir)\n",
    "    for file in Path(path_dir).iterdir():\n",
    "        with open(file, 'rb') as file_open:\n",
    "            results = defaultdict(list)\n",
    "            results['category'] = folder\n",
    "            results['article_text'].append(file_open.read())\n",
    "    df = pd.DataFrame(results)\n",
    "    df_bbc = df_bbc.append(df)"
   ]
  },
  {
   "cell_type": "code",
   "execution_count": 64,
   "metadata": {},
   "outputs": [
    {
     "data": {
      "text/html": [
       "<div>\n",
       "<style scoped>\n",
       "    .dataframe tbody tr th:only-of-type {\n",
       "        vertical-align: middle;\n",
       "    }\n",
       "\n",
       "    .dataframe tbody tr th {\n",
       "        vertical-align: top;\n",
       "    }\n",
       "\n",
       "    .dataframe thead th {\n",
       "        text-align: right;\n",
       "    }\n",
       "</style>\n",
       "<table border=\"1\" class=\"dataframe\">\n",
       "  <thead>\n",
       "    <tr style=\"text-align: right;\">\n",
       "      <th></th>\n",
       "      <th>category</th>\n",
       "      <th>article_text</th>\n",
       "    </tr>\n",
       "  </thead>\n",
       "  <tbody>\n",
       "    <tr>\n",
       "      <th>0</th>\n",
       "      <td>tech</td>\n",
       "      <td>b'Musicians to tackle US red tape\\n\\nMusicians...</td>\n",
       "    </tr>\n",
       "    <tr>\n",
       "      <th>1</th>\n",
       "      <td>tech</td>\n",
       "      <td>b'U2\\'s desire to be number one\\n\\nU2, who hav...</td>\n",
       "    </tr>\n",
       "    <tr>\n",
       "      <th>2</th>\n",
       "      <td>tech</td>\n",
       "      <td>b'Rocker Doherty in on-stage fight\\n\\nRock sin...</td>\n",
       "    </tr>\n",
       "    <tr>\n",
       "      <th>3</th>\n",
       "      <td>tech</td>\n",
       "      <td>b\"Snicket tops US box office chart\\n\\nThe film...</td>\n",
       "    </tr>\n",
       "    <tr>\n",
       "      <th>4</th>\n",
       "      <td>tech</td>\n",
       "      <td>b'Ocean\\'s Twelve raids box office\\n\\nOcean\\'s...</td>\n",
       "    </tr>\n",
       "    <tr>\n",
       "      <th>...</th>\n",
       "      <td>...</td>\n",
       "      <td>...</td>\n",
       "    </tr>\n",
       "    <tr>\n",
       "      <th>2220</th>\n",
       "      <td>tech</td>\n",
       "      <td>b'Warning over Windows Word files\\n\\nWriting a...</td>\n",
       "    </tr>\n",
       "    <tr>\n",
       "      <th>2221</th>\n",
       "      <td>tech</td>\n",
       "      <td>b'Fast lifts rise into record books\\n\\nTwo hig...</td>\n",
       "    </tr>\n",
       "    <tr>\n",
       "      <th>2222</th>\n",
       "      <td>tech</td>\n",
       "      <td>b'Nintendo adds media playing to DS\\n\\nNintend...</td>\n",
       "    </tr>\n",
       "    <tr>\n",
       "      <th>2223</th>\n",
       "      <td>tech</td>\n",
       "      <td>b\"Fast moving phone viruses appear\\n\\nSecurity...</td>\n",
       "    </tr>\n",
       "    <tr>\n",
       "      <th>2224</th>\n",
       "      <td>tech</td>\n",
       "      <td>b'Hacker threat to Apple\\'s iTunes\\n\\nUsers of...</td>\n",
       "    </tr>\n",
       "  </tbody>\n",
       "</table>\n",
       "<p>2225 rows × 2 columns</p>\n",
       "</div>"
      ],
      "text/plain": [
       "     category                                       article_text\n",
       "0        tech  b'Musicians to tackle US red tape\\n\\nMusicians...\n",
       "1        tech  b'U2\\'s desire to be number one\\n\\nU2, who hav...\n",
       "2        tech  b'Rocker Doherty in on-stage fight\\n\\nRock sin...\n",
       "3        tech  b\"Snicket tops US box office chart\\n\\nThe film...\n",
       "4        tech  b'Ocean\\'s Twelve raids box office\\n\\nOcean\\'s...\n",
       "...       ...                                                ...\n",
       "2220     tech  b'Warning over Windows Word files\\n\\nWriting a...\n",
       "2221     tech  b'Fast lifts rise into record books\\n\\nTwo hig...\n",
       "2222     tech  b'Nintendo adds media playing to DS\\n\\nNintend...\n",
       "2223     tech  b\"Fast moving phone viruses appear\\n\\nSecurity...\n",
       "2224     tech  b'Hacker threat to Apple\\'s iTunes\\n\\nUsers of...\n",
       "\n",
       "[2225 rows x 2 columns]"
      ]
     },
     "execution_count": 64,
     "metadata": {},
     "output_type": "execute_result"
    }
   ],
   "source": [
    "df_bbc.query('category == \"tech\"')"
   ]
  },
  {
   "cell_type": "code",
   "execution_count": 52,
   "metadata": {},
   "outputs": [],
   "source": [
    "del df, dict_files, file, files, folder, list_files, list_folders, path_dir, path_folder, results"
   ]
  },
  {
   "cell_type": "markdown",
   "metadata": {},
   "source": [
    "## Pre-processing\n",
    "Let's start pre-processing our data so that we can have a better dataset to apply models on.\n",
    "\n",
    "To begin with, let's check our class balances."
   ]
  },
  {
   "cell_type": "code",
   "execution_count": 56,
   "metadata": {},
   "outputs": [
    {
     "data": {
      "text/plain": [
       "<AxesSubplot:>"
      ]
     },
     "execution_count": 56,
     "metadata": {},
     "output_type": "execute_result"
    },
    {
     "data": {
      "image/png": "[encoded data removed]",
      "text/plain": [
       "<Figure size 432x288 with 1 Axes>"
      ]
     },
     "metadata": {
      "needs_background": "light"
     },
     "output_type": "display_data"
    }
   ],
   "source": [
    "df_bbc['category'].value_counts().plot(kind = 'bar')"
   ]
  },
  {
   "cell_type": "code",
   "execution_count": null,
   "metadata": {},
   "outputs": [],
   "source": []
  }
 ],
 "metadata": {
  "kernelspec": {
   "display_name": "env_nlp",
   "language": "python",
   "name": "env_nlp"
  },
  "language_info": {
   "codemirror_mode": {
    "name": "ipython",
    "version": 3
   },
   "file_extension": ".py",
   "mimetype": "text/x-python",
   "name": "python",
   "nbconvert_exporter": "python",
   "pygments_lexer": "ipython3",
   "version": "3.8.1"
  }
 },
 "nbformat": 4,
 "nbformat_minor": 4
}

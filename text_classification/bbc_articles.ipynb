{
 "cells": [
  {
   "cell_type": "markdown",
   "metadata": {},
   "source": [
    "# Text Classification\n",
    "Data comes from BBC articles which are available to download from Kaggle [here](https://www.kaggle.com/shivamkushwaha/bbc-full-text-document-classification)."
   ]
  },
  {
   "cell_type": "code",
   "execution_count": 28,
   "metadata": {},
   "outputs": [],
   "source": [
    "import os\n",
    "from collections import defaultdict\n",
    "from pathlib import Path\n",
    "import pandas as pd\n",
    "import numpy as np\n",
    "\n",
    "# display multiple outputs in same cell\n",
    "from IPython.core.interactiveshell import InteractiveShell\n",
    "InteractiveShell.ast_node_interactivity = \"all\""
   ]
  },
  {
   "cell_type": "code",
   "execution_count": 45,
   "metadata": {},
   "outputs": [],
   "source": [
    "path_folder = '../data/bbc_classification/bbc'\n",
    "\n",
    "# list of folders for each BBC article\n",
    "list_folders = os.listdir(path = path_folder)\n",
    "list_folders = [e for e in list_folders if e not in {'.DS_Store', 'README.TXT'}]\n",
    "\n",
    "# nested list of files within each folder\n",
    "list_files = []\n",
    "for folder in list_folders:\n",
    "    files = os.listdir(path = path_folder + '/' + folder + '/')\n",
    "    list_files.append(files)\n",
    "    \n",
    "# intialise dictionary with keys from list_folders an values from list_files\n",
    "dict_files = dict(zip(list_folders, list_files))"
   ]
  },
  {
   "cell_type": "markdown",
   "metadata": {},
   "source": [
    "Now have a dictionary, `dict_files` whose:\n",
    " - **Keys**: The folder name the data files belong to\n",
    " - **Values**: The data files within each of the sub-folders\n",
    "\n",
    "What we want to do now is load in each text file as a *single-entry* and assign it the `key` from `dict_files` as the classification. This enables us to create a labelled dataset."
   ]
  },
  {
   "cell_type": "code",
   "execution_count": 46,
   "metadata": {},
   "outputs": [
    {
     "name": "stdout",
     "output_type": "stream",
     "text": [
      "../data/bbc_classification/bbc/entertainment\n",
      "../data/bbc_classification/bbc/business\n",
      "../data/bbc_classification/bbc/sport\n",
      "../data/bbc_classification/bbc/politics\n",
      "../data/bbc_classification/bbc/tech\n"
     ]
    }
   ],
   "source": [
    "results = defaultdict(list)\n",
    "df_bbc = pd.DataFrame(columns = ['category', 'article_text'])\n",
    "for folder in list_folders:\n",
    "    path_dir = path_folder + '/' + folder\n",
    "    print(path_dir)\n",
    "    for file in Path(path_dir).iterdir():\n",
    "        with open(file, 'rb') as file_open:\n",
    "            results['category'] = folder\n",
    "            results['article_text'].append(file_open.read())\n",
    "    df = pd.DataFrame(results)\n",
    "    df_bbc = df_bbc.append(df)"
   ]
  },
  {
   "cell_type": "code",
   "execution_count": 47,
   "metadata": {},
   "outputs": [
    {
     "data": {
      "text/html": [
       "<div>\n",
       "<style scoped>\n",
       "    .dataframe tbody tr th:only-of-type {\n",
       "        vertical-align: middle;\n",
       "    }\n",
       "\n",
       "    .dataframe tbody tr th {\n",
       "        vertical-align: top;\n",
       "    }\n",
       "\n",
       "    .dataframe thead th {\n",
       "        text-align: right;\n",
       "    }\n",
       "</style>\n",
       "<table border=\"1\" class=\"dataframe\">\n",
       "  <thead>\n",
       "    <tr style=\"text-align: right;\">\n",
       "      <th></th>\n",
       "      <th>category</th>\n",
       "      <th>article_text</th>\n",
       "    </tr>\n",
       "  </thead>\n",
       "  <tbody>\n",
       "    <tr>\n",
       "      <th>0</th>\n",
       "      <td>entertainment</td>\n",
       "      <td>b'Musicians to tackle US red tape\\n\\nMusicians...</td>\n",
       "    </tr>\n",
       "    <tr>\n",
       "      <th>1</th>\n",
       "      <td>entertainment</td>\n",
       "      <td>b'U2\\'s desire to be number one\\n\\nU2, who hav...</td>\n",
       "    </tr>\n",
       "    <tr>\n",
       "      <th>2</th>\n",
       "      <td>entertainment</td>\n",
       "      <td>b'Rocker Doherty in on-stage fight\\n\\nRock sin...</td>\n",
       "    </tr>\n",
       "    <tr>\n",
       "      <th>3</th>\n",
       "      <td>entertainment</td>\n",
       "      <td>b\"Snicket tops US box office chart\\n\\nThe film...</td>\n",
       "    </tr>\n",
       "    <tr>\n",
       "      <th>4</th>\n",
       "      <td>entertainment</td>\n",
       "      <td>b'Ocean\\'s Twelve raids box office\\n\\nOcean\\'s...</td>\n",
       "    </tr>\n",
       "    <tr>\n",
       "      <th>...</th>\n",
       "      <td>...</td>\n",
       "      <td>...</td>\n",
       "    </tr>\n",
       "    <tr>\n",
       "      <th>381</th>\n",
       "      <td>entertainment</td>\n",
       "      <td>b'Bookmakers back Aviator for Oscar\\n\\nThe Avi...</td>\n",
       "    </tr>\n",
       "    <tr>\n",
       "      <th>382</th>\n",
       "      <td>entertainment</td>\n",
       "      <td>b'Scissor Sisters triumph at Brits\\n\\nUS band ...</td>\n",
       "    </tr>\n",
       "    <tr>\n",
       "      <th>383</th>\n",
       "      <td>entertainment</td>\n",
       "      <td>b'Spears seeks aborted tour payment\\n\\nSinger ...</td>\n",
       "    </tr>\n",
       "    <tr>\n",
       "      <th>384</th>\n",
       "      <td>entertainment</td>\n",
       "      <td>b'Angels \\'favourite funeral song\\'\\n\\nAngels ...</td>\n",
       "    </tr>\n",
       "    <tr>\n",
       "      <th>385</th>\n",
       "      <td>entertainment</td>\n",
       "      <td>b'DJ double act revamp chart show\\n\\nDJ duo JK...</td>\n",
       "    </tr>\n",
       "  </tbody>\n",
       "</table>\n",
       "<p>386 rows × 2 columns</p>\n",
       "</div>"
      ],
      "text/plain": [
       "          category                                       article_text\n",
       "0    entertainment  b'Musicians to tackle US red tape\\n\\nMusicians...\n",
       "1    entertainment  b'U2\\'s desire to be number one\\n\\nU2, who hav...\n",
       "2    entertainment  b'Rocker Doherty in on-stage fight\\n\\nRock sin...\n",
       "3    entertainment  b\"Snicket tops US box office chart\\n\\nThe film...\n",
       "4    entertainment  b'Ocean\\'s Twelve raids box office\\n\\nOcean\\'s...\n",
       "..             ...                                                ...\n",
       "381  entertainment  b'Bookmakers back Aviator for Oscar\\n\\nThe Avi...\n",
       "382  entertainment  b'Scissor Sisters triumph at Brits\\n\\nUS band ...\n",
       "383  entertainment  b'Spears seeks aborted tour payment\\n\\nSinger ...\n",
       "384  entertainment  b'Angels \\'favourite funeral song\\'\\n\\nAngels ...\n",
       "385  entertainment  b'DJ double act revamp chart show\\n\\nDJ duo JK...\n",
       "\n",
       "[386 rows x 2 columns]"
      ]
     },
     "execution_count": 47,
     "metadata": {},
     "output_type": "execute_result"
    }
   ],
   "source": [
    "df_bbc[df_bbc['category'] == 'entertainment']"
   ]
  }
 ],
 "metadata": {
  "kernelspec": {
   "display_name": "env_nlp",
   "language": "python",
   "name": "env_nlp"
  },
  "language_info": {
   "codemirror_mode": {
    "name": "ipython",
    "version": 3
   },
   "file_extension": ".py",
   "mimetype": "text/x-python",
   "name": "python",
   "nbconvert_exporter": "python",
   "pygments_lexer": "ipython3",
   "version": "3.8.1"
  }
 },
 "nbformat": 4,
 "nbformat_minor": 4
}

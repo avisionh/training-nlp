{
 "cells": [
  {
   "cell_type": "markdown",
   "metadata": {},
   "source": [
    "# Text Classification\n",
    "Data comes from BBC articles which are available to download from Kaggle [here](https://www.kaggle.com/shivamkushwaha/bbc-full-text-document-classification)."
   ]
  },
  {
   "cell_type": "code",
   "execution_count": 1,
   "metadata": {},
   "outputs": [],
   "source": [
    "import os\n",
    "import pandas as pd\n",
    "import numpy as np"
   ]
  },
  {
   "cell_type": "code",
   "execution_count": 10,
   "metadata": {},
   "outputs": [
    {
     "data": {
      "text/plain": [
       "['entertainment', 'business', 'sport', 'politics', 'tech']"
      ]
     },
     "execution_count": 10,
     "metadata": {},
     "output_type": "execute_result"
    }
   ],
   "source": [
    "path_folder = '../data/bbc_classification/bbc/'\n",
    "\n",
    "# list of folders for each BBC article\n",
    "list_folders = os.listdir(path = path_folder)\n",
    "list_folders = [e for e in list_folders if e not in {'.DS_Store', 'README.TXT'}]\n",
    "\n",
    "# nested list of files within each folder\n",
    "list_files = []\n",
    "for folder in list_folders:\n",
    "    files = os.listdir(path = path_folder + '/' + folder + '/')\n",
    "    list_files.append(files)"
   ]
  },
  {
   "cell_type": "code",
   "execution_count": null,
   "metadata": {},
   "outputs": [],
   "source": []
  },
  {
   "cell_type": "code",
   "execution_count": null,
   "metadata": {},
   "outputs": [],
   "source": [
    "for subfolder in list_filenames:\n",
    "    for file in subfolder:\n",
    "        with open()"
   ]
  }
 ],
 "metadata": {
  "kernelspec": {
   "display_name": "env_nlp",
   "language": "python",
   "name": "env_nlp"
  },
  "language_info": {
   "codemirror_mode": {
    "name": "ipython",
    "version": 3
   },
   "file_extension": ".py",
   "mimetype": "text/x-python",
   "name": "python",
   "nbconvert_exporter": "python",
   "pygments_lexer": "ipython3",
   "version": "3.8.1"
  }
 },
 "nbformat": 4,
 "nbformat_minor": 4
}

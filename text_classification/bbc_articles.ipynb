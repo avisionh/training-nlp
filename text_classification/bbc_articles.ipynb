{
 "cells": [
  {
   "cell_type": "markdown",
   "metadata": {},
   "source": [
    "# Text Classification\n",
    "Data comes from BBC articles which are available to download from Kaggle [here](https://www.kaggle.com/shivamkushwaha/bbc-full-text-document-classification)."
   ]
  },
  {
   "cell_type": "code",
   "execution_count": 28,
   "metadata": {},
   "outputs": [],
   "source": [
    "import os\n",
    "from collections import defaultdict\n",
    "from pathlib import Path\n",
    "import pandas as pd\n",
    "import numpy as np\n",
    "\n",
    "# display multiple outputs in same cell\n",
    "from IPython.core.interactiveshell import InteractiveShell\n",
    "InteractiveShell.ast_node_interactivity = \"all\""
   ]
  },
  {
   "cell_type": "code",
   "execution_count": 45,
   "metadata": {},
   "outputs": [],
   "source": [
    "path_folder = '../data/bbc_classification/bbc'\n",
    "\n",
    "# list of folders for each BBC article\n",
    "list_folders = os.listdir(path = path_folder)\n",
    "list_folders = [e for e in list_folders if e not in {'.DS_Store', 'README.TXT'}]\n",
    "\n",
    "# nested list of files within each folder\n",
    "list_files = []\n",
    "for folder in list_folders:\n",
    "    files = os.listdir(path = path_folder + '/' + folder + '/')\n",
    "    list_files.append(files)\n",
    "    \n",
    "# intialise dictionary with keys from list_folders an values from list_files\n",
    "dict_files = dict(zip(list_folders, list_files))"
   ]
  },
  {
   "cell_type": "markdown",
   "metadata": {},
   "source": [
    "Now have a dictionary, `dict_files` whose:\n",
    " - **Keys**: The folder name the data files belong to\n",
    " - **Values**: The data files within each of the sub-folders\n",
    "\n",
    "What we want to do now is load in each text file as a *single-entry* and assign it the `key` from `dict_files` as the classification. This enables us to create a labelled dataset."
   ]
  },
  {
   "cell_type": "code",
   "execution_count": 46,
   "metadata": {},
   "outputs": [
    {
     "name": "stdout",
     "output_type": "stream",
     "text": [
      "../data/bbc_classification/bbc/entertainment\n",
      "../data/bbc_classification/bbc/business\n",
      "../data/bbc_classification/bbc/sport\n",
      "../data/bbc_classification/bbc/politics\n",
      "../data/bbc_classification/bbc/tech\n"
     ]
    }
   ],
   "source": [
    "# load data in\n",
    "results = defaultdict(list)\n",
    "df_bbc = pd.DataFrame(columns = ['category', 'article_text'])\n",
    "for folder in list_folders:\n",
    "    path_dir = path_folder + '/' + folder\n",
    "    print(path_dir)\n",
    "    for file in Path(path_dir).iterdir():\n",
    "        with open(file, 'rb') as file_open:\n",
    "            results['category'] = folder\n",
    "            results['article_text'].append(file_open.read())\n",
    "    df = pd.DataFrame(results)\n",
    "    df_bbc = df_bbc.append(df)"
   ]
  },
  {
   "cell_type": "code",
   "execution_count": 48,
   "metadata": {},
   "outputs": [],
   "source": [
    "del df, dict_files, file, files, folder, list_files, list_folders, path_dir, path_folder, results"
   ]
  },
  {
   "cell_type": "code",
   "execution_count": null,
   "metadata": {},
   "outputs": [],
   "source": []
  }
 ],
 "metadata": {
  "kernelspec": {
   "display_name": "env_nlp",
   "language": "python",
   "name": "env_nlp"
  },
  "language_info": {
   "codemirror_mode": {
    "name": "ipython",
    "version": 3
   },
   "file_extension": ".py",
   "mimetype": "text/x-python",
   "name": "python",
   "nbconvert_exporter": "python",
   "pygments_lexer": "ipython3",
   "version": "3.8.1"
  }
 },
 "nbformat": 4,
 "nbformat_minor": 4
}

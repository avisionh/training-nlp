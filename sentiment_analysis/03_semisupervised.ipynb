{
 "cells": [
  {
   "cell_type": "code",
   "execution_count": 1,
   "metadata": {},
   "outputs": [],
   "source": [
    "from operator import itemgetter\n",
    "\n",
    "import pandas as pd\n",
    "import numpy as np\n",
    "import matplotlib.pyplot as plt\n",
    "%matplotlib inline\n",
    "\n",
    "from xgboost import XGBRegressor\n",
    "from sklearn.ensemble import RandomForestRegressor\n",
    "\n",
    "from sklearn.metrics import mean_squared_error\n",
    "from sklearn.model_selection import cross_val_score\n",
    "\n",
    "from sklearn.utils import shuffle\n",
    "from sklearn.base import BaseEstimator, RegressorMixin\n",
    "\n",
    "# display multiple outputs in same cell\n",
    "from IPython.core.interactiveshell import InteractiveShell\n",
    "InteractiveShell.ast_node_interactivity = \"all\"\n",
    "\n",
    "# restore objects and unpack them into variables\n",
    "%store -r object_keep\n",
    "df, df_adjust, model_features, model_target, X_train, X_test, y_train = itemgetter('df', 'df_adjust', 'model_features', 'model_target', 'X_train', 'X_test', 'y_train')(object_keep)"
   ]
  },
  {
   "cell_type": "code",
   "execution_count": 2,
   "metadata": {},
   "outputs": [],
   "source": [
    "class PseudoLabeler(BaseEstimator, RegressorMixin):\n",
    "    '''\n",
    "    Sci-kit learn wrapper for creating pseudo-lebeled estimators.\n",
    "    '''\n",
    "\n",
    "    def __init__(self, model, unlabled_data, features, target, sample_rate = 0.2, seed = 42):\n",
    "        '''\n",
    "        @sample_rate - percent of samples used as pseudo-labelled data\n",
    "        from the unlabelled dataset\n",
    "        '''\n",
    "        assert sample_rate <= 1.0, 'Sample_rate should be between 0.0 and 1.0.'\n",
    "\n",
    "        self.sample_rate = sample_rate\n",
    "        self.seed = seed\n",
    "        self.model = model\n",
    "        self.model.seed = seed\n",
    "\n",
    "        self.unlabled_data = unlabled_data\n",
    "        self.features = features\n",
    "        self.target = target\n",
    "\n",
    "    def get_params(self, deep = True):\n",
    "        return {\n",
    "            \"sample_rate\": self.sample_rate,\n",
    "            \"seed\": self.seed,\n",
    "            \"model\": self.model,\n",
    "            \"unlabled_data\": self.unlabled_data,\n",
    "            \"features\": self.features,\n",
    "            \"target\": self.target\n",
    "        }\n",
    "\n",
    "    def set_params(self, **parameters):\n",
    "        for parameter, value in parameters.items():\n",
    "            setattr(self, parameter, value)\n",
    "        return self\n",
    "\n",
    "    def fit(self, X, y):\n",
    "        '''\n",
    "        Fit the data using pseudo labeling.\n",
    "        '''\n",
    "\n",
    "        augemented_train = self.__create_augmented_train(X, y)\n",
    "        self.model.fit(\n",
    "            augemented_train[self.features],\n",
    "            augemented_train[self.target]\n",
    "        )\n",
    "\n",
    "        return self\n",
    "\n",
    "    def __create_augmented_train(self, X, y):\n",
    "        '''\n",
    "        Create and return the augmented_train set that consists\n",
    "        of pseudo-labeled and labeled data.\n",
    "        '''\n",
    "        num_of_samples = int(len(self.unlabled_data) * self.sample_rate)\n",
    "\n",
    "        # Train the model and create the pseudo-labels\n",
    "        self.model.fit(X, y)\n",
    "        pseudo_labels = self.model.predict(self.unlabled_data[self.features])\n",
    "\n",
    "        # Add the pseudo-labels to the test set\n",
    "        pseudo_data = self.unlabled_data.copy(deep = True)\n",
    "        pseudo_data[self.target] = pseudo_labels\n",
    "\n",
    "        # Take a subset of the test set with pseudo-labels and append in onto\n",
    "        # the training set\n",
    "        sampled_pseudo_data = pseudo_data.sample(n=num_of_samples)\n",
    "        temp_train = pd.concat([X, y], axis=1)\n",
    "        augemented_train = pd.concat([sampled_pseudo_data, temp_train])\n",
    "\n",
    "        return shuffle(augemented_train)\n",
    "\n",
    "    def predict(self, X):\n",
    "        '''\n",
    "        Returns the predicted values.\n",
    "        '''\n",
    "        return self.model.predict(X)\n",
    "\n",
    "    def get_model_name(self):\n",
    "        return self.model.__class__.__name__"
   ]
  },
  {
   "cell_type": "markdown",
   "metadata": {},
   "source": [
    "## Semi-supervised Learning\n",
    "Let's check our results after pseudo-labelling our dataset."
   ]
  },
  {
   "cell_type": "code",
   "execution_count": 5,
   "metadata": {},
   "outputs": [],
   "source": [
    "test = df_adjust.query('dataset_identifier == \"test\"')\n",
    "test = test.drop(labels = ['item_outlet_sales','dataset_identifier'], axis = 1)"
   ]
  },
  {
   "cell_type": "code",
   "execution_count": 10,
   "metadata": {},
   "outputs": [
    {
     "name": "stdout",
     "output_type": "stream",
     "text": [
      "RandomForestRegressor     CV-8 MSE: 1145.7299 (+/- 110457.7629)\n",
      "PseudoLabeler             CV-8 MSE: nan (+/- nan)\n"
     ]
    }
   ],
   "source": [
    "model_factory = [\n",
    "    RandomForestRegressor(),\n",
    "    PseudoLabeler(RandomForestRegressor,\n",
    "                  test,\n",
    "                  model_features,\n",
    "                  model_target,\n",
    "                  sample_rate = 0.3)\n",
    "]\n",
    "\n",
    "for model in model_factory:\n",
    "    model.seed = 42\n",
    "    n_folds = 8\n",
    "    \n",
    "    scores = cross_val_score(model, X_train, y_train, cv = n_folds, scoring = 'neg_mean_squared_error', n_jobs = 8)\n",
    "    score_description = \"MSE: %0.4f (+/- %0.4f)\" % (np.sqrt(scores.mean() * -1), scores.std() * 2)\n",
    "    \n",
    "    print('{model:25} CV-{n_folds} {score_cv}'.format(model = model.__class__.__name__, n_folds = n_folds, score_cv = score_description))"
   ]
  },
  {
   "cell_type": "code",
   "execution_count": null,
   "metadata": {},
   "outputs": [],
   "source": []
  }
 ],
 "metadata": {
  "kernelspec": {
   "display_name": "env_nlp",
   "language": "python",
   "name": "env_nlp"
  },
  "language_info": {
   "codemirror_mode": {
    "name": "ipython",
    "version": 3
   },
   "file_extension": ".py",
   "mimetype": "text/x-python",
   "name": "python",
   "nbconvert_exporter": "python",
   "pygments_lexer": "ipython3",
   "version": "3.8.1"
  }
 },
 "nbformat": 4,
 "nbformat_minor": 4
}

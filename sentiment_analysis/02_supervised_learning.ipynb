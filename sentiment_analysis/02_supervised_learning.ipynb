{
 "cells": [
  {
   "cell_type": "code",
   "execution_count": 1,
   "metadata": {},
   "outputs": [],
   "source": [
    "from operator import itemgetter\n",
    "\n",
    "import pandas as pd\n",
    "import numpy as np\n",
    "import matplotlib.pyplot as plt\n",
    "%matplotlib inline\n",
    "\n",
    "from xgboost import XGBRegressor\n",
    "from sklearn.linear_model import BayesianRidge, Ridge, ElasticNet\n",
    "from sklearn.neighbors import KNeighborsRegressor\n",
    "from sklearn.ensemble import RandomForestRegressor, ExtraTreesRegressor, GradientBoostingRegressor\n",
    "\n",
    "from sklearn.metrics import mean_squared_error\n",
    "from sklearn.model_selection import cross_val_score\n",
    "\n",
    "# display multiple outputs in same cell\n",
    "from IPython.core.interactiveshell import InteractiveShell\n",
    "InteractiveShell.ast_node_interactivity = \"all\"\n",
    "\n",
    "# restore objects and unpack them into variables\n",
    "%store -r object_keep\n",
    "df, df_adjust,X_train, X_test, y_train = itemgetter('df', \n",
    "                                                    'df_adjust',\n",
    "                                                    'X_train',\n",
    "                                                    'X_test', \n",
    "                                                    'y_train')(object_keep)"
   ]
  },
  {
   "cell_type": "markdown",
   "metadata": {},
   "source": [
    "## Supervised Learning \n",
    "Will try range of different supervised learning models on our *labelled* data."
   ]
  },
  {
   "cell_type": "code",
   "execution_count": 2,
   "metadata": {},
   "outputs": [
    {
     "name": "stdout",
     "output_type": "stream",
     "text": [
      "RandomForestRegressor     CV-5 RMSE:  1150.33 (+/- 27744.53)\n",
      "XGBRegressor              CV-5 RMSE:  1179.27 (+/- 32476.24)\n",
      "Ridge                     CV-5 RMSE:  1206.49 (+/- 54349.06)\n",
      "BayesianRidge             CV-5 RMSE:  1206.63 (+/- 53013.02)\n",
      "ExtraTreesRegressor       CV-5 RMSE:  1191.45 (+/- 12762.87)\n",
      "ElasticNet                CV-5 RMSE:  1259.21 (+/- 89904.13)\n",
      "KNeighborsRegressor       CV-5 RMSE:  1246.34 (+/- 36060.54)\n",
      "GradientBoostingRegressor CV-5 RMSE:  1085.72 (+/- 23514.35)\n"
     ]
    }
   ],
   "source": [
    "model_factory = [\n",
    "    RandomForestRegressor(),\n",
    "    XGBRegressor(nthread = 1),\n",
    "    Ridge(),\n",
    "    BayesianRidge(),\n",
    "    ExtraTreesRegressor(),\n",
    "    ElasticNet(),\n",
    "    KNeighborsRegressor(),\n",
    "    GradientBoostingRegressor()\n",
    "]\n",
    "\n",
    "for model in model_factory:\n",
    "    model.seed = 42\n",
    "    n_folds = 3\n",
    "\n",
    "    scores = cross_val_score(estimator = model, X = X_train, y = y_train, cv = n_folds, scoring = \"neg_mean_squared_error\")\n",
    "    score_description = \" %0.2f (+/- %0.2f)\" % (np.sqrt(scores.mean() * -1), scores.std() * 2)\n",
    "    \n",
    "    print('{model:25} CV-5 RMSE: {score}'.format(model = model.__class__.__name__, score = score_description))"
   ]
  },
  {
   "cell_type": "markdown",
   "metadata": {},
   "source": [
    "## Conclusion\n",
    "\n",
    "See that Random Forest gives the best model performance without any hyperparameter tuning. No hyperparameter-tuning will be done for the sake of keeping this focussed on the process for dealing with this semi-supervised problem."
   ]
  },
  {
   "cell_type": "code",
   "execution_count": 3,
   "metadata": {},
   "outputs": [
    {
     "name": "stdout",
     "output_type": "stream",
     "text": [
      "Stored 'object_keep' (dict)\n"
     ]
    }
   ],
   "source": [
    "object_keep = {'df':df,\n",
    "               'df_adjust': df_adjust, \n",
    "               'X_train': X_train, \n",
    "               'X_test': X_test, \n",
    "               'y_train': y_train}\n",
    "%store object_keep"
   ]
  }
 ],
 "metadata": {
  "kernelspec": {
   "display_name": "env_nlp",
   "language": "python",
   "name": "env_nlp"
  },
  "language_info": {
   "codemirror_mode": {
    "name": "ipython",
    "version": 3
   },
   "file_extension": ".py",
   "mimetype": "text/x-python",
   "name": "python",
   "nbconvert_exporter": "python",
   "pygments_lexer": "ipython3",
   "version": "3.8.1"
  }
 },
 "nbformat": 4,
 "nbformat_minor": 4
}

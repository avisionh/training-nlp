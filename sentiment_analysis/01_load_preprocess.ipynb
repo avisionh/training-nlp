{
 "cells": [
  {
   "cell_type": "markdown",
   "metadata": {},
   "source": [
    "# Semi-Supervised Learning\n",
    "Code taken from [Analytics Vidhya](https://www.analyticsvidhya.com/blog/2017/09/pseudo-labelling-semi-supervised-learning-technique/) and data is from their data hack challenge, further details available [here](https://datahack.analyticsvidhya.com/contest/practice-problem-big-mart-sales-iii/#ProblemStatement).\n",
    "\n",
    "The problem statement being tackled in this dataset and exercise is:\n",
    "\n",
    "> Predicting sales for Big Mart outlets\n",
    "\n",
    "## Background\n",
    "The data scientists at BigMart have collected 2013 sales data for 1559 products across 10 stores in different cities. Also, certain attributes of each product and store have been defined. The aim is to build a predictive model and predict the sales of each product at a particular outlet.\n",
    "\n",
    "Using this model, BigMart will try to understand the properties of products and outlets which play a key role in increasing sales."
   ]
  },
  {
   "cell_type": "code",
   "execution_count": 39,
   "metadata": {},
   "outputs": [],
   "source": [
    "import pandas as pd\n",
    "import numpy as np\n",
    "from sklearn.preprocessing import LabelEncoder\n",
    "\n",
    "# display multiple outputs in same cell\n",
    "from IPython.core.interactiveshell import InteractiveShell\n",
    "InteractiveShell.ast_node_interactivity = \"all\""
   ]
  },
  {
   "cell_type": "code",
   "execution_count": 47,
   "metadata": {},
   "outputs": [
    {
     "data": {
      "text/html": [
       "<div>\n",
       "<style scoped>\n",
       "    .dataframe tbody tr th:only-of-type {\n",
       "        vertical-align: middle;\n",
       "    }\n",
       "\n",
       "    .dataframe tbody tr th {\n",
       "        vertical-align: top;\n",
       "    }\n",
       "\n",
       "    .dataframe thead th {\n",
       "        text-align: right;\n",
       "    }\n",
       "</style>\n",
       "<table border=\"1\" class=\"dataframe\">\n",
       "  <thead>\n",
       "    <tr style=\"text-align: right;\">\n",
       "      <th></th>\n",
       "      <th>Item_Identifier</th>\n",
       "      <th>Item_Weight</th>\n",
       "      <th>Item_Fat_Content</th>\n",
       "      <th>Item_Visibility</th>\n",
       "      <th>Item_Type</th>\n",
       "      <th>Item_MRP</th>\n",
       "      <th>Outlet_Identifier</th>\n",
       "      <th>Outlet_Establishment_Year</th>\n",
       "      <th>Outlet_Size</th>\n",
       "      <th>Outlet_Location_Type</th>\n",
       "      <th>Outlet_Type</th>\n",
       "      <th>Item_Outlet_Sales</th>\n",
       "      <th>dataset_identifier</th>\n",
       "    </tr>\n",
       "  </thead>\n",
       "  <tbody>\n",
       "    <tr>\n",
       "      <th>5567</th>\n",
       "      <td>FDT51</td>\n",
       "      <td>NaN</td>\n",
       "      <td>Regular</td>\n",
       "      <td>0.010866</td>\n",
       "      <td>Meat</td>\n",
       "      <td>111.4544</td>\n",
       "      <td>OUT027</td>\n",
       "      <td>1985</td>\n",
       "      <td>Medium</td>\n",
       "      <td>Tier 3</td>\n",
       "      <td>Supermarket Type3</td>\n",
       "      <td>NaN</td>\n",
       "      <td>test</td>\n",
       "    </tr>\n",
       "    <tr>\n",
       "      <th>4098</th>\n",
       "      <td>FDB27</td>\n",
       "      <td>7.575</td>\n",
       "      <td>Low Fat</td>\n",
       "      <td>0.055476</td>\n",
       "      <td>Dairy</td>\n",
       "      <td>196.8768</td>\n",
       "      <td>OUT049</td>\n",
       "      <td>1999</td>\n",
       "      <td>Medium</td>\n",
       "      <td>Tier 1</td>\n",
       "      <td>Supermarket Type1</td>\n",
       "      <td>1182.4608</td>\n",
       "      <td>train</td>\n",
       "    </tr>\n",
       "    <tr>\n",
       "      <th>5406</th>\n",
       "      <td>NCB07</td>\n",
       "      <td>19.200</td>\n",
       "      <td>Low Fat</td>\n",
       "      <td>0.077493</td>\n",
       "      <td>Household</td>\n",
       "      <td>197.0110</td>\n",
       "      <td>OUT035</td>\n",
       "      <td>2004</td>\n",
       "      <td>Small</td>\n",
       "      <td>Tier 2</td>\n",
       "      <td>Supermarket Type1</td>\n",
       "      <td>NaN</td>\n",
       "      <td>test</td>\n",
       "    </tr>\n",
       "    <tr>\n",
       "      <th>7562</th>\n",
       "      <td>FDY39</td>\n",
       "      <td>NaN</td>\n",
       "      <td>Regular</td>\n",
       "      <td>0.000000</td>\n",
       "      <td>Meat</td>\n",
       "      <td>182.0608</td>\n",
       "      <td>OUT027</td>\n",
       "      <td>1985</td>\n",
       "      <td>Medium</td>\n",
       "      <td>Tier 3</td>\n",
       "      <td>Supermarket Type3</td>\n",
       "      <td>7717.9536</td>\n",
       "      <td>train</td>\n",
       "    </tr>\n",
       "    <tr>\n",
       "      <th>3666</th>\n",
       "      <td>DRA59</td>\n",
       "      <td>8.270</td>\n",
       "      <td>Regular</td>\n",
       "      <td>0.128187</td>\n",
       "      <td>Soft Drinks</td>\n",
       "      <td>184.3924</td>\n",
       "      <td>OUT045</td>\n",
       "      <td>2002</td>\n",
       "      <td>NaN</td>\n",
       "      <td>Tier 2</td>\n",
       "      <td>Supermarket Type1</td>\n",
       "      <td>NaN</td>\n",
       "      <td>test</td>\n",
       "    </tr>\n",
       "  </tbody>\n",
       "</table>\n",
       "</div>"
      ],
      "text/plain": [
       "     Item_Identifier  Item_Weight Item_Fat_Content  Item_Visibility  \\\n",
       "5567           FDT51          NaN          Regular         0.010866   \n",
       "4098           FDB27        7.575          Low Fat         0.055476   \n",
       "5406           NCB07       19.200          Low Fat         0.077493   \n",
       "7562           FDY39          NaN          Regular         0.000000   \n",
       "3666           DRA59        8.270          Regular         0.128187   \n",
       "\n",
       "        Item_Type  Item_MRP Outlet_Identifier  Outlet_Establishment_Year  \\\n",
       "5567         Meat  111.4544            OUT027                       1985   \n",
       "4098        Dairy  196.8768            OUT049                       1999   \n",
       "5406    Household  197.0110            OUT035                       2004   \n",
       "7562         Meat  182.0608            OUT027                       1985   \n",
       "3666  Soft Drinks  184.3924            OUT045                       2002   \n",
       "\n",
       "     Outlet_Size Outlet_Location_Type        Outlet_Type  Item_Outlet_Sales  \\\n",
       "5567      Medium               Tier 3  Supermarket Type3                NaN   \n",
       "4098      Medium               Tier 1  Supermarket Type1          1182.4608   \n",
       "5406       Small               Tier 2  Supermarket Type1                NaN   \n",
       "7562      Medium               Tier 3  Supermarket Type3          7717.9536   \n",
       "3666         NaN               Tier 2  Supermarket Type1                NaN   \n",
       "\n",
       "     dataset_identifier  \n",
       "5567               test  \n",
       "4098              train  \n",
       "5406               test  \n",
       "7562              train  \n",
       "3666               test  "
      ]
     },
     "execution_count": 47,
     "metadata": {},
     "output_type": "execute_result"
    }
   ],
   "source": [
    "df_train = pd.read_csv(filepath_or_buffer = '../data/data_mart_train.csv')\n",
    "df_test = pd.read_csv(filepath_or_buffer = '../data/data_mart_test.csv')\n",
    "\n",
    "df_train['dataset_identifier'] = 'train'\n",
    "df_test['dataset_identifier'] = 'test'\n",
    "\n",
    "df_test['Item_Outlet_Sales'] = np.NaN\n",
    "\n",
    "# union/concatenate dataframes so can perform similar operations\n",
    "df = pd.concat([df_train, df_test])\n",
    "\n",
    "df.sample(n = 5, random_state = 42)"
   ]
  },
  {
   "cell_type": "markdown",
   "metadata": {},
   "source": [
    "# Preprocessing\n",
    "We pre-process the data so it is more suitable for analysis."
   ]
  },
  {
   "cell_type": "code",
   "execution_count": 48,
   "metadata": {},
   "outputs": [],
   "source": [
    "# lowercase headings\n",
    "df.columns = df.columns.str.lower()\n",
    "\n",
    "# imputing means in place of NAs\n",
    "df['item_weight'] = df['item_weight'].fillna(value = df['item_weight'].mean())\n",
    "df['outlet_size'] = df['outlet_size'].fillna(value = 'Small')\n",
    "\n",
    "# reduce fat content to only two categories\n",
    "df['item_fat_content'] = df['item_fat_content'].replace(to_replace = ['lower fat', 'LF', 'reg'], value = ['Low Fat', 'Low Fat', 'Regular'])\n",
    "\n",
    "# compute establishment year\n",
    "df['outlet_establishment_year'] = 2013 - df['outlet_establishment_year']\n",
    "\n",
    "# apply label encoding for categorical variables\n",
    "df_adjust = df.copy()\n",
    "col = ['item_fat_content', 'outlet_size', 'outlet_location_type', 'outlet_type']\n",
    "number = LabelEncoder()\n",
    "for i in col:\n",
    "    df_adjust[i] = number.fit_transform(df_adjust[i].astype('str'))\n",
    "    df_adjust[i] = df_adjust[i].astype('int')\n",
    "\n",
    "\n",
    "# remove id variables/columns\n",
    "df_adjust = df_adjust.drop(labels = ['outlet_identifier', 'item_type', 'item_identifier'], axis = 1)\n",
    "\n",
    "# define input/features and output/target\n",
    "model_features = df_adjust.columns\n",
    "model_target = 'item_outlet_sales'\n",
    "\n",
    "# establish train and test sets\n",
    "X_train = df_adjust.query('dataset_identifier == \"train\"')\n",
    "X_train = X_train.drop(labels = ['item_outlet_sales', 'dataset_identifier'], axis = 1)\n",
    "X_test = df_adjust.query('dataset_identifier == \"test\"')\n",
    "X_test = X_test.drop(labels = ['item_outlet_sales', 'dataset_identifier'], axis = 1)\n",
    "y_train = df_adjust.query('dataset_identifier == \"train\"')\n",
    "y_train = y_train['item_outlet_sales']"
   ]
  },
  {
   "cell_type": "code",
   "execution_count": null,
   "metadata": {},
   "outputs": [],
   "source": [
    "df.sample(n = 5, random_state = 42)\n",
    "df_adjust.sample(n = 5, random_state = 42)"
   ]
  },
  {
   "cell_type": "code",
   "execution_count": 58,
   "metadata": {},
   "outputs": [
    {
     "data": {
      "text/plain": [
       "dtype('float64')"
      ]
     },
     "execution_count": 58,
     "metadata": {},
     "output_type": "execute_result"
    }
   ],
   "source": [
    "y_train.dtypes"
   ]
  },
  {
   "cell_type": "markdown",
   "metadata": {},
   "source": [
    "Store objects created for next notebook session."
   ]
  },
  {
   "cell_type": "code",
   "execution_count": 59,
   "metadata": {},
   "outputs": [
    {
     "name": "stdout",
     "output_type": "stream",
     "text": [
      "Stored 'object_keep' (dict)\n"
     ]
    }
   ],
   "source": [
    "object_keep = {'df':df,\n",
    "               'df_adjust': df_adjust, \n",
    "               'model_features': model_features, \n",
    "               'model_target': model_target, \n",
    "               'X_train': X_train, \n",
    "               'X_test': X_test, \n",
    "               'y_train': y_train}\n",
    "%store object_keep"
   ]
  }
 ],
 "metadata": {
  "kernelspec": {
   "display_name": "env_nlp",
   "language": "python",
   "name": "env_nlp"
  },
  "language_info": {
   "codemirror_mode": {
    "name": "ipython",
    "version": 3
   },
   "file_extension": ".py",
   "mimetype": "text/x-python",
   "name": "python",
   "nbconvert_exporter": "python",
   "pygments_lexer": "ipython3",
   "version": "3.8.1"
  }
 },
 "nbformat": 4,
 "nbformat_minor": 4
}
